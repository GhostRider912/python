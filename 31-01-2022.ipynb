{
 "cells": [
  {
   "cell_type": "code",
   "execution_count": 1,
   "id": "f6b2f5ef",
   "metadata": {},
   "outputs": [
    {
     "name": "stdout",
     "output_type": "stream",
     "text": [
      "welcome vasvai students\n"
     ]
    }
   ],
   "source": [
    "print(\"welcome vasvai students\")"
   ]
  },
  {
   "cell_type": "markdown",
   "id": "76f3f561",
   "metadata": {},
   "source": [
    "# welcome\n",
    "## welcome\n",
    "### welcome\n",
    "#### vasavi\n",
    "##### vasavi\n",
    "###### students"
   ]
  },
  {
   "cell_type": "markdown",
   "id": "2c253f04",
   "metadata": {},
   "source": [
    "**apssdc**"
   ]
  },
  {
   "cell_type": "markdown",
   "id": "9814b309",
   "metadata": {},
   "source": [
    "*apssdc*"
   ]
  },
  {
   "cell_type": "markdown",
   "id": "ca897000",
   "metadata": {},
   "source": [
    "i am from apssdc first line.  \n",
    "i am avinash second line.  \n",
    "i am learning python third line."
   ]
  },
  {
   "cell_type": "markdown",
   "id": "a4de0736",
   "metadata": {},
   "source": [
    "dfigfdklgdfhgfdkljgldfgdkgfkljgdlkj\n",
    "dfjkfdgfdghfgjdfkjjahgdkjfdhjkfgjkdajkdhafkjghdjfh"
   ]
  },
  {
   "cell_type": "markdown",
   "id": "55fbf2a3",
   "metadata": {},
   "source": [
    "# inorder list"
   ]
  },
  {
   "cell_type": "markdown",
   "id": "cc5745c5",
   "metadata": {},
   "source": [
    "+ one  \n",
    "- two  \n",
    "+ three  \n",
    "+ four  \n",
    "    + five  \n",
    "    - six  \n",
    "    * seven  \n",
    "        + eight  \n",
    "        - nine  \n",
    "        * zero  "
   ]
  },
  {
   "cell_type": "markdown",
   "id": "b5825a68",
   "metadata": {},
   "source": [
    "# order list"
   ]
  },
  {
   "cell_type": "markdown",
   "id": "983dea3b",
   "metadata": {},
   "source": [
    "1. hi  \n",
    "2. this    \n",
    "3. is  \n",
    "4. Avinash  \n",
    "    5. hguhjkih  \n",
    "    6. ytfgyuhuhj  \n",
    "    7. gghsjihs  \n"
   ]
  },
  {
   "cell_type": "markdown",
   "id": "13411748",
   "metadata": {},
   "source": [
    "### comments  \n",
    "- user readadble information or data  \n",
    "- comment does not execute\n",
    "- it is mentioned in '#'\n",
    "- for multiple line comment mention  in the formation of \"' '\"."
   ]
  },
  {
   "cell_type": "markdown",
   "id": "90ee8bd7",
   "metadata": {},
   "source": [
    "# variable\n",
    "- which is used to store data\n",
    "- variable starts with characters,underscore\n",
    "- variable could not start with numbers,special symbols,keywords"
   ]
  },
  {
   "cell_type": "markdown",
   "id": "0dbc9ae2",
   "metadata": {},
   "source": [
    "### Data types\n",
    "- int(all integer values)\n",
    "- float(integer with decimal point)\n",
    "- str(combination of characters or group of characters)\n",
    "- complex(number with real and imaginary part)\n",
    "- boolean(True,False)"
   ]
  },
  {
   "cell_type": "code",
   "execution_count": 2,
   "id": "44f1f8b9",
   "metadata": {},
   "outputs": [],
   "source": [
    "a=765\n",
    "b=54,67\n",
    "c=\"apssdc\"\n",
    "d='p'\n",
    "e=1+2j\n",
    "f='1+2j'\n",
    "g=True"
   ]
  },
  {
   "cell_type": "code",
   "execution_count": 4,
   "id": "cd582a7e",
   "metadata": {},
   "outputs": [
    {
     "name": "stdout",
     "output_type": "stream",
     "text": [
      "<class 'int'>\n",
      "<class 'tuple'>\n",
      "<class 'str'>\n",
      "<class 'str'>\n",
      "<class 'complex'>\n",
      "<class 'str'>\n",
      "<class 'bool'>\n"
     ]
    }
   ],
   "source": [
    "print(type(a))\n",
    "print(type(b))\n",
    "print(type(c))\n",
    "print(type(d))\n",
    "print(type(e))\n",
    "print(type(f))\n",
    "print(type(g))"
   ]
  },
  {
   "cell_type": "markdown",
   "id": "1396da81",
   "metadata": {},
   "source": [
    "### Typecasting\n",
    "- ehich converts the data from one data type to another data type"
   ]
  },
  {
   "cell_type": "code",
   "execution_count": 5,
   "id": "a79d11ca",
   "metadata": {},
   "outputs": [
    {
     "name": "stdout",
     "output_type": "stream",
     "text": [
      "<class 'int'>\n"
     ]
    }
   ],
   "source": [
    "_abc=458\n",
    "print(type(_abc))"
   ]
  },
  {
   "cell_type": "code",
   "execution_count": 6,
   "id": "dcaab917",
   "metadata": {},
   "outputs": [
    {
     "name": "stdout",
     "output_type": "stream",
     "text": [
      "<class 'str'>\n"
     ]
    }
   ],
   "source": [
    "z=str(_abc)\n",
    "print(type(z))"
   ]
  },
  {
   "cell_type": "code",
   "execution_count": 7,
   "id": "2a960f26",
   "metadata": {},
   "outputs": [
    {
     "name": "stdout",
     "output_type": "stream",
     "text": [
      "<class 'float'>\n",
      "458.0\n"
     ]
    }
   ],
   "source": [
    "z=float(_abc)\n",
    "print(type(z))\n",
    "print(z)"
   ]
  },
  {
   "cell_type": "code",
   "execution_count": 8,
   "id": "3e014d0a",
   "metadata": {},
   "outputs": [
    {
     "name": "stdout",
     "output_type": "stream",
     "text": [
      "<class 'complex'>\n",
      "(458+0j)\n"
     ]
    }
   ],
   "source": [
    "z=complex(_abc)\n",
    "print(type(z))\n",
    "print(z)"
   ]
  },
  {
   "cell_type": "code",
   "execution_count": 10,
   "id": "9c7eec50",
   "metadata": {},
   "outputs": [
    {
     "name": "stdout",
     "output_type": "stream",
     "text": [
      "<class 'str'>\n"
     ]
    }
   ],
   "source": [
    "abc=\"vasavi college\"\n",
    "print(type(abc))"
   ]
  },
  {
   "cell_type": "code",
   "execution_count": 17,
   "id": "2d3f842f",
   "metadata": {},
   "outputs": [
    {
     "name": "stdout",
     "output_type": "stream",
     "text": [
      "<class 'int'>\n",
      "1234567\n"
     ]
    }
   ],
   "source": [
    "abc=\"1234567\"\n",
    "z=int(abc)\n",
    "print(type(z))\n",
    "print(z)"
   ]
  },
  {
   "cell_type": "code",
   "execution_count": 13,
   "id": "94a033c6",
   "metadata": {},
   "outputs": [
    {
     "name": "stdout",
     "output_type": "stream",
     "text": [
      "<class 'float'>\n",
      "1234567.0\n"
     ]
    }
   ],
   "source": [
    "abc=1234567\n",
    "z=float(abc)\n",
    "print(type(z))\n",
    "print(z)"
   ]
  },
  {
   "cell_type": "code",
   "execution_count": 14,
   "id": "068a19ec",
   "metadata": {},
   "outputs": [
    {
     "name": "stdout",
     "output_type": "stream",
     "text": [
      "<class 'complex'>\n",
      "(1234567+0j)\n"
     ]
    }
   ],
   "source": [
    "abc=1234567\n",
    "z=complex(abc)\n",
    "print(type(z))\n",
    "print(z)"
   ]
  },
  {
   "cell_type": "code",
   "execution_count": null,
   "id": "afaaaade",
   "metadata": {},
   "outputs": [],
   "source": [
    "vasavi=45.234\n",
    "z=complex(vasavi)\n",
    "print(type(z))\n"
   ]
  }
 ],
 "metadata": {
  "kernelspec": {
   "display_name": "Python 3 (ipykernel)",
   "language": "python",
   "name": "python3"
  },
  "language_info": {
   "codemirror_mode": {
    "name": "ipython",
    "version": 3
   },
   "file_extension": ".py",
   "mimetype": "text/x-python",
   "name": "python",
   "nbconvert_exporter": "python",
   "pygments_lexer": "ipython3",
   "version": "3.9.7"
  }
 },
 "nbformat": 4,
 "nbformat_minor": 5
}
