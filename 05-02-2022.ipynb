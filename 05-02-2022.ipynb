{
 "cells": [
  {
   "cell_type": "markdown",
   "id": "1d80467c",
   "metadata": {},
   "source": [
    "### File Handling\n",
    "- File: File is a named location or memory used to store relative information\n",
    "    - .csv,.py,.html,.txt,.ipynb,.mp4\n",
    "- File handling: It allows user to handle files\n",
    "- Compared to other languages, programmingin file handling is easy in python\n",
    "- Read and Write files.Along with the other files,handle options to work on file\n",
    "- Steps of the handling:\n",
    "    - Open file\n",
    "    - Doing operstions\n",
    "    - Close a file\n",
    "- Open function()\n",
    "    - We use open fun() in python to open the file in read and write options\n",
    "    - To return a object we use in open function() along 2 arguments that accepts the filename and mode.Whether read or write\n",
    "    - syntax::open(filename.mode)\n",
    "\n",
    "- Modes are three types to open a file\n",
    "    - read()--'r'-->to read a file\n",
    "        - file_variable.read(size)\n",
    "    - write()--'w'-->to write a file\n",
    "        - file_variable.write(data)\n",
    "    - apend()--'a'-->to add a information to a file\n",
    "        - file_variable.append(data)\n",
    "\n",
    "- BY default the file will open as 'r' mode\n",
    "- Close()\n",
    "    - It is used to close a file\n",
    "    - Every time you have to close a file at the end of the operations.Otherwise the changes will not be applicable."
   ]
  },
  {
   "cell_type": "code",
   "execution_count": 1,
   "id": "cf73f146",
   "metadata": {},
   "outputs": [
    {
     "name": "stdout",
     "output_type": "stream",
     "text": [
      "Successfully opened\n"
     ]
    }
   ],
   "source": [
    "f=open(\"data.txt\",'r')\n",
    "if f:\n",
    "    print(\"Successfully opened\")\n",
    "else:\n",
    "    print(\"Failed\")"
   ]
  },
  {
   "cell_type": "code",
   "execution_count": 3,
   "id": "6e420283",
   "metadata": {},
   "outputs": [
    {
     "name": "stdout",
     "output_type": "stream",
     "text": [
      "Good morning,welcome Vasavi students\n"
     ]
    }
   ],
   "source": [
    "# read\n",
    "f=open(\"data.txt\")\n",
    "print(f.read())\n",
    "f.close()"
   ]
  },
  {
   "cell_type": "code",
   "execution_count": 5,
   "id": "cee6dc09",
   "metadata": {},
   "outputs": [
    {
     "name": "stdout",
     "output_type": "stream",
     "text": [
      "Good morning,welcome Vasavi students\n"
     ]
    }
   ],
   "source": [
    "# Using with keyword automatically will be closed\n",
    "with open(\"data.txt\") as f:\n",
    "    fr=f.read()\n",
    "    print(fr)"
   ]
  },
  {
   "cell_type": "code",
   "execution_count": 6,
   "id": "2c0aebb3",
   "metadata": {},
   "outputs": [
    {
     "name": "stdout",
     "output_type": "stream",
     "text": [
      "Good m\n"
     ]
    }
   ],
   "source": [
    "f=open(\"data.txt\")\n",
    "print(f.read(6))\n",
    "f.close()"
   ]
  },
  {
   "cell_type": "code",
   "execution_count": 7,
   "id": "f21fc567",
   "metadata": {},
   "outputs": [
    {
     "name": "stdout",
     "output_type": "stream",
     "text": [
      "18\n"
     ]
    }
   ],
   "source": [
    "f=open(\"data1.txt\",'w')\n",
    "fr=f.write('Python programming')\n",
    "print(fr)\n",
    "f.close()"
   ]
  },
  {
   "cell_type": "markdown",
   "id": "881444e8",
   "metadata": {},
   "source": [
    "### File handling methods\n",
    "- open()\n",
    "- read()\n",
    "- write()\n",
    "- close()\n",
    "- readline()\n",
    "- readlines()\n",
    "- seek()\n",
    "- tell()\n",
    "- Types of modes:\n",
    "    - read()--'r'\n",
    "    - write()--'w'\n",
    "    - append()--'a'"
   ]
  },
  {
   "cell_type": "code",
   "execution_count": 8,
   "id": "501c5616",
   "metadata": {},
   "outputs": [],
   "source": [
    "f=open(\"data.txt\")"
   ]
  },
  {
   "cell_type": "code",
   "execution_count": 9,
   "id": "6f581fe7",
   "metadata": {},
   "outputs": [],
   "source": [
    "info=f.read(6)"
   ]
  },
  {
   "cell_type": "code",
   "execution_count": 10,
   "id": "e93bba2c",
   "metadata": {},
   "outputs": [
    {
     "name": "stdout",
     "output_type": "stream",
     "text": [
      "Good m\n"
     ]
    }
   ],
   "source": [
    "print(info)"
   ]
  },
  {
   "cell_type": "code",
   "execution_count": 11,
   "id": "f251c541",
   "metadata": {},
   "outputs": [
    {
     "name": "stdout",
     "output_type": "stream",
     "text": [
      "orning,welcome Vasavi students\n"
     ]
    }
   ],
   "source": [
    "d=f.read()\n",
    "print(d)"
   ]
  },
  {
   "cell_type": "code",
   "execution_count": 12,
   "id": "475bc22c",
   "metadata": {},
   "outputs": [],
   "source": [
    "f.close()"
   ]
  },
  {
   "cell_type": "code",
   "execution_count": 13,
   "id": "d8f1c981",
   "metadata": {},
   "outputs": [],
   "source": [
    "# write mode()\n",
    "# It is used to write something in file\n",
    "# If file is not their directory,the file will be created and data will be written in that file"
   ]
  },
  {
   "cell_type": "code",
   "execution_count": 14,
   "id": "ebbda2c7",
   "metadata": {},
   "outputs": [],
   "source": [
    "fo=open('data.txt','w')"
   ]
  },
  {
   "cell_type": "code",
   "execution_count": 20,
   "id": "74b1ab66",
   "metadata": {},
   "outputs": [
    {
     "name": "stdout",
     "output_type": "stream",
     "text": [
      "<_io.TextIOWrapper name='data.txt' mode='w' encoding='cp1252'>\n"
     ]
    }
   ],
   "source": [
    "fo.write(\"gudbye\")\n",
    "print(fo)"
   ]
  },
  {
   "cell_type": "code",
   "execution_count": 16,
   "id": "6559b8b7",
   "metadata": {},
   "outputs": [
    {
     "data": {
      "text/plain": [
       "23"
      ]
     },
     "execution_count": 16,
     "metadata": {},
     "output_type": "execute_result"
    }
   ],
   "source": [
    "f=open('data.txt','a')\n",
    "fo.write(\"hjakdhask ahsc  jahsdjk\")"
   ]
  },
  {
   "cell_type": "code",
   "execution_count": 17,
   "id": "a4412983",
   "metadata": {},
   "outputs": [
    {
     "name": "stdout",
     "output_type": "stream",
     "text": [
      "<_io.TextIOWrapper name='data.txt' mode='a' encoding='cp1252'>\n"
     ]
    }
   ],
   "source": [
    "print(f)"
   ]
  },
  {
   "cell_type": "code",
   "execution_count": 19,
   "id": "12ff91bb",
   "metadata": {},
   "outputs": [
    {
     "name": "stdout",
     "output_type": "stream",
     "text": [
      "\n",
      "\n"
     ]
    }
   ],
   "source": [
    "f=open(\"data.txt\",'r')\n",
    "s=f.readline()\n",
    "print(s)\n",
    "t=f.readline()\n",
    "print(t)"
   ]
  },
  {
   "cell_type": "code",
   "execution_count": 21,
   "id": "b08d034c",
   "metadata": {},
   "outputs": [
    {
     "name": "stdout",
     "output_type": "stream",
     "text": [
      "number of lines in the file: 0\n"
     ]
    }
   ],
   "source": [
    "with open(\"data.txt\",'r') as f:\n",
    "    no_of_lines=f.readlines()\n",
    "    print(\"number of lines in the file:\",len(no_of_lines))"
   ]
  },
  {
   "cell_type": "code",
   "execution_count": 22,
   "id": "114ba0fe",
   "metadata": {},
   "outputs": [
    {
     "name": "stdout",
     "output_type": "stream",
     "text": [
      "number of words are: 0\n"
     ]
    }
   ],
   "source": [
    "# No. of words in the given file\n",
    "words=0\n",
    "for line in no_of_lines:\n",
    "    words_list=line.split()\n",
    "    words+=len(words_list)\n",
    "print(\"number of words are:\",words)"
   ]
  },
  {
   "cell_type": "markdown",
   "id": "e9bac2ef",
   "metadata": {},
   "source": [
    "### Functions\n",
    "- Builtin functions\n",
    "    - Already existed\n",
    "    - Ex:print(),input(),len(),int()\n",
    "- User defined functions\n",
    "    - Which are defined by the user\n",
    "    - Ex:Any user can create the functions"
   ]
  },
  {
   "cell_type": "code",
   "execution_count": null,
   "id": "aea0d830",
   "metadata": {},
   "outputs": [],
   "source": [
    "syntax for functions::\n",
    "def function_name(arguments):# function definition\n",
    "    statements\n",
    "    statements\n",
    "function_name(parameters)# function calling"
   ]
  },
  {
   "cell_type": "code",
   "execution_count": 4,
   "id": "e5830f2a",
   "metadata": {},
   "outputs": [
    {
     "name": "stdout",
     "output_type": "stream",
     "text": [
      "13\n",
      "odd number\n"
     ]
    }
   ],
   "source": [
    "# even or odd\n",
    "n=int(input())\n",
    "if n%2==0:\n",
    "    print(\"even number\")\n",
    "else:\n",
    "    print(\"odd number\")"
   ]
  },
  {
   "cell_type": "code",
   "execution_count": 6,
   "id": "bc7f0c3f",
   "metadata": {},
   "outputs": [
    {
     "name": "stdout",
     "output_type": "stream",
     "text": [
      "even\n"
     ]
    }
   ],
   "source": [
    "def even_odd(x):\n",
    "    if x%2==0:\n",
    "        print(\"even\")\n",
    "    else:\n",
    "        print(\"odd\")\n",
    "even_odd(10)"
   ]
  },
  {
   "cell_type": "code",
   "execution_count": 8,
   "id": "65beec88",
   "metadata": {},
   "outputs": [
    {
     "name": "stdout",
     "output_type": "stream",
     "text": [
      "34\n",
      "even\n"
     ]
    }
   ],
   "source": [
    "def even_odd(x):\n",
    "    if x%2==0:\n",
    "        print(\"even\")\n",
    "    else:\n",
    "        print(\"odd\")\n",
    "even_odd(int(input()))"
   ]
  },
  {
   "cell_type": "code",
   "execution_count": 10,
   "id": "94acba07",
   "metadata": {},
   "outputs": [
    {
     "name": "stdout",
     "output_type": "stream",
     "text": [
      "Prime number\n"
     ]
    }
   ],
   "source": [
    "# prime number\n",
    "def prime_check(n):\n",
    "    count=0\n",
    "    for i in range(1,n+1):\n",
    "        if n%i==0:\n",
    "            count+=1\n",
    "    if count==2:\n",
    "        print(\"Prime number\")\n",
    "    else:\n",
    "        print(\"Not a prime number\")\n",
    "prime_check(5)"
   ]
  },
  {
   "cell_type": "code",
   "execution_count": 11,
   "id": "f9f4c44c",
   "metadata": {},
   "outputs": [
    {
     "name": "stdout",
     "output_type": "stream",
     "text": [
      "3456\n"
     ]
    },
    {
     "data": {
      "text/plain": [
       "False"
      ]
     },
     "execution_count": 11,
     "metadata": {},
     "output_type": "execute_result"
    }
   ],
   "source": [
    "def is_prime(n):\n",
    "    for i in range(2,n+1):\n",
    "        if n%i==0:\n",
    "            return False\n",
    "        return True\n",
    "is_prime(int(input()))"
   ]
  },
  {
   "cell_type": "code",
   "execution_count": 13,
   "id": "5aa646e6",
   "metadata": {},
   "outputs": [
    {
     "name": "stdout",
     "output_type": "stream",
     "text": [
      "sum of the factors: 6\n",
      "Perfect number\n"
     ]
    }
   ],
   "source": [
    "# perfect number:given number is equals to the \n",
    "#6-->1+2+3=6(perfect number)\n",
    "#8-->1+2+4=7(not a perfect number)\n",
    "def perfect_num(a):\n",
    "    fact_sum=0\n",
    "    for i in range(1,a):\n",
    "        if a%i==0:\n",
    "            fact_sum=fact_sum+i\n",
    "    print(\"sum of the factors:\",fact_sum)\n",
    "    if a==fact_sum:\n",
    "        print(\"Perfect number\")\n",
    "    else:\n",
    "        print(\"Not a perfect number\")\n",
    "perfect_num(6)"
   ]
  },
  {
   "cell_type": "markdown",
   "id": "4541d87f",
   "metadata": {},
   "source": [
    "- Comprehensions\n",
    "- Iterators and generators\n",
    "- Functional programming\n",
    "\n",
    "#### Comprehensions\n",
    "- It is a program of creating new sequence from existing sequence\n",
    "- Advantages::less code,easy to understand\n",
    "- Types:\n",
    "    - List comprehensions\n",
    "    - Dictionary comprehensions\n",
    "    - Set comprehensions\n",
    "    - Generator comprehensions\n",
    "- List comprehension\n",
    "    - Easy way to create,more efficient,\n",
    "    - Syntax::[expression for item in list]"
   ]
  },
  {
   "cell_type": "code",
   "execution_count": 14,
   "id": "0297f596",
   "metadata": {},
   "outputs": [
    {
     "name": "stdout",
     "output_type": "stream",
     "text": [
      "1 2 3 4 5 6 7 8 9 10 "
     ]
    }
   ],
   "source": [
    "for i in range(1,11):\n",
    "    print(i,end=\" \")"
   ]
  },
  {
   "cell_type": "code",
   "execution_count": 16,
   "id": "d569f27a",
   "metadata": {},
   "outputs": [
    {
     "name": "stdout",
     "output_type": "stream",
     "text": [
      "[1, 2, 3, 4, 5, 6, 7, 8, 9, 10]\n"
     ]
    }
   ],
   "source": [
    "li=[]\n",
    "for i in range(1,11):\n",
    "    li.append(i)\n",
    "print(li)"
   ]
  },
  {
   "cell_type": "code",
   "execution_count": 17,
   "id": "511fde4a",
   "metadata": {},
   "outputs": [
    {
     "name": "stdout",
     "output_type": "stream",
     "text": [
      "[1, 2, 3, 4, 5, 6, 7, 8, 9, 10]\n"
     ]
    }
   ],
   "source": [
    "li=[i for i in range(1,11)]# list comprehension\n",
    "print(li)"
   ]
  },
  {
   "cell_type": "code",
   "execution_count": 18,
   "id": "55559faf",
   "metadata": {},
   "outputs": [
    {
     "name": "stdout",
     "output_type": "stream",
     "text": [
      "[5, 10, 15, 20, 25, 30, 35, 40, 45, 50]\n"
     ]
    }
   ],
   "source": [
    "li=[i*5 for i in range(1,11)]# list comprehension\n",
    "print(li)"
   ]
  },
  {
   "cell_type": "code",
   "execution_count": 19,
   "id": "ab9a965a",
   "metadata": {},
   "outputs": [
    {
     "name": "stdout",
     "output_type": "stream",
     "text": [
      "[2, 4, 6, 8, 10]\n"
     ]
    }
   ],
   "source": [
    "li=[i for i in range(1,11) if(i%2==0)]\n",
    "print(li)"
   ]
  },
  {
   "cell_type": "code",
   "execution_count": 20,
   "id": "ba4cbb3b",
   "metadata": {},
   "outputs": [
    {
     "name": "stdout",
     "output_type": "stream",
     "text": [
      "['odd', 2, 'odd', 4, 'odd', 6, 'odd', 8, 'odd', 10]\n"
     ]
    }
   ],
   "source": [
    "li=([i if i%2==0 else \"odd\" for i in range(1,11)])\n",
    "print(li)"
   ]
  },
  {
   "cell_type": "code",
   "execution_count": 22,
   "id": "e4a2e3f4",
   "metadata": {},
   "outputs": [
    {
     "name": "stdout",
     "output_type": "stream",
     "text": [
      "[(1, 'odd'), (2, 'even'), (3, 'odd'), (4, 'even'), (5, 'odd'), (6, 'even'), (7, 'odd'), (8, 'even'), (9, 'odd'), (10, 'even')]\n"
     ]
    }
   ],
   "source": [
    "print([(i,\"even\") if i%2==0 else(i,\"odd\") for i in range(1,11)])"
   ]
  },
  {
   "cell_type": "code",
   "execution_count": 23,
   "id": "d12b476a",
   "metadata": {},
   "outputs": [
    {
     "name": "stdout",
     "output_type": "stream",
     "text": [
      "['stay', 'home', 'stay', 'safe']\n"
     ]
    }
   ],
   "source": [
    "a=['stay home','stay safe']# list\n",
    "li=[]\n",
    "for i in a:\n",
    "    for j in i.split():\n",
    "        li.append(j)\n",
    "print(li)"
   ]
  },
  {
   "cell_type": "code",
   "execution_count": 24,
   "id": "2de20f6f",
   "metadata": {},
   "outputs": [
    {
     "name": "stdout",
     "output_type": "stream",
     "text": [
      "['stay', 'home', 'stay', 'safe']\n"
     ]
    }
   ],
   "source": [
    "x=[j for i in a for j in i.split()]\n",
    "print(x)"
   ]
  },
  {
   "cell_type": "code",
   "execution_count": 25,
   "id": "3b1dbe8c",
   "metadata": {},
   "outputs": [
    {
     "data": {
      "text/plain": [
       "[[1, 2, 3, 4, 5, 6, 7, 8, 9, 10],\n",
       " [2, 4, 6, 8, 10, 12, 14, 16, 18, 20],\n",
       " [3, 6, 9, 12, 15, 18, 21, 24, 27, 30],\n",
       " [4, 8, 12, 16, 20, 24, 28, 32, 36, 40],\n",
       " [5, 10, 15, 20, 25, 30, 35, 40, 45, 50],\n",
       " [6, 12, 18, 24, 30, 36, 42, 48, 54, 60],\n",
       " [7, 14, 21, 28, 35, 42, 49, 56, 63, 70],\n",
       " [8, 16, 24, 32, 40, 48, 56, 64, 72, 80],\n",
       " [9, 18, 27, 36, 45, 54, 63, 72, 81, 90],\n",
       " [10, 20, 30, 40, 50, 60, 70, 80, 90, 100]]"
      ]
     },
     "execution_count": 25,
     "metadata": {},
     "output_type": "execute_result"
    }
   ],
   "source": [
    "a=[[i*j for i in range(1,11)] for j in range(1,11)]\n",
    "a"
   ]
  },
  {
   "cell_type": "code",
   "execution_count": null,
   "id": "f3edee22",
   "metadata": {},
   "outputs": [],
   "source": []
  }
 ],
 "metadata": {
  "kernelspec": {
   "display_name": "Python 3 (ipykernel)",
   "language": "python",
   "name": "python3"
  },
  "language_info": {
   "codemirror_mode": {
    "name": "ipython",
    "version": 3
   },
   "file_extension": ".py",
   "mimetype": "text/x-python",
   "name": "python",
   "nbconvert_exporter": "python",
   "pygments_lexer": "ipython3",
   "version": "3.9.7"
  }
 },
 "nbformat": 4,
 "nbformat_minor": 5
}
